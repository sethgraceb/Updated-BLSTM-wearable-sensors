{
 "cells": [
  {
   "cell_type": "code",
   "execution_count": 29,
   "id": "df4d6107",
   "metadata": {},
   "outputs": [],
   "source": [
    "import numpy as np"
   ]
  },
  {
   "cell_type": "code",
   "execution_count": 30,
   "id": "d19ae5d9",
   "metadata": {},
   "outputs": [],
   "source": [
    "import pandas as pd"
   ]
  },
  {
   "cell_type": "code",
   "execution_count": 31,
   "id": "d7380f4c",
   "metadata": {},
   "outputs": [],
   "source": [
    "import matplotlib.pyplot as plt"
   ]
  },
  {
   "cell_type": "code",
   "execution_count": 32,
   "id": "26cd951d",
   "metadata": {},
   "outputs": [],
   "source": [
    "import seaborn as sns"
   ]
  },
  {
   "cell_type": "code",
   "execution_count": 33,
   "id": "b3c9b3ea",
   "metadata": {},
   "outputs": [],
   "source": [
    "from sklearn.preprocessing import LabelEncoder"
   ]
  },
  {
   "cell_type": "code",
   "execution_count": 34,
   "id": "98bb377a",
   "metadata": {},
   "outputs": [],
   "source": [
    "from tensorflow.keras.utils import to_categorical\n",
    "from tensorflow.keras.models import Sequential\n",
    "from tensorflow.keras.layers import Conv2D, MaxPooling2D, Dropout, Flatten, Dense"
   ]
  },
  {
   "cell_type": "code",
   "execution_count": 35,
   "id": "b3ea17f7",
   "metadata": {},
   "outputs": [],
   "source": [
    "import os\n",
    "import math"
   ]
  },
  {
   "cell_type": "code",
   "execution_count": 36,
   "id": "b5785cb0",
   "metadata": {},
   "outputs": [],
   "source": [
    "import scipy.io as sio"
   ]
  },
  {
   "cell_type": "code",
   "execution_count": 37,
   "id": "5449a872",
   "metadata": {},
   "outputs": [],
   "source": [
    "import scipy.stats"
   ]
  },
  {
   "cell_type": "code",
   "execution_count": 38,
   "id": "99f43edd",
   "metadata": {},
   "outputs": [],
   "source": [
    "from collections import defaultdict, Counter"
   ]
  },
  {
   "cell_type": "code",
   "execution_count": 39,
   "id": "f9d817fa",
   "metadata": {},
   "outputs": [],
   "source": [
    "from scipy import stats"
   ]
  },
  {
   "cell_type": "code",
   "execution_count": 40,
   "id": "d9d4d835",
   "metadata": {},
   "outputs": [],
   "source": [
    "import warnings\n",
    "warnings.filterwarnings(\"ignore\")"
   ]
  },
  {
   "cell_type": "code",
   "execution_count": 82,
   "id": "8be348ab",
   "metadata": {},
   "outputs": [],
   "source": [
    "from sklearn.preprocessing import OneHotEncoder\n",
    "from sklearn.preprocessing import StandardScaler\n",
    "from sklearn.metrics import accuracy_score, classification_report, confusion_matrix\n",
    "from sklearn.model_selection import cross_val_score, GridSearchCV, RandomizedSearchCV, train_test_split"
   ]
  },
  {
   "cell_type": "code",
   "execution_count": 43,
   "id": "d3e8c889",
   "metadata": {},
   "outputs": [],
   "source": [
    "from tensorflow import keras"
   ]
  },
  {
   "cell_type": "code",
   "execution_count": 44,
   "id": "9fee491b",
   "metadata": {},
   "outputs": [],
   "source": [
    "# Load the dataset\n",
    "df = pd.read_csv('euler_data_left_wrist.csv')\n",
    "df = df.drop([0])"
   ]
  },
  {
   "cell_type": "code",
   "execution_count": 45,
   "id": "ed26f37a",
   "metadata": {},
   "outputs": [
    {
     "name": "stdout",
     "output_type": "stream",
     "text": [
      "     PacketCounter  SampleTimeFine    Euler_X    Euler_Y     Euler_Z  \\\n",
      "1                1        79897288 -44.006100  39.279148 -159.631714   \n",
      "2                2        79913955 -42.771473  40.480717 -158.369705   \n",
      "3                3        79930622 -42.201080  41.910305 -157.384995   \n",
      "4                4        79947289 -42.532143  43.498165 -156.531906   \n",
      "5                5        79963956 -43.704803  45.181152 -155.828735   \n",
      "6                6        79980623 -45.432957  47.099209 -155.189453   \n",
      "7                7        79997290 -47.534390  49.309769 -154.510773   \n",
      "8                8        80013957 -49.956146  51.621769 -153.760910   \n",
      "9                9        80030624 -52.525787  53.896698 -152.910095   \n",
      "10              10        80047291 -54.792458  56.118759 -151.692200   \n",
      "11              11        80063958 -56.522751  58.324749 -149.956451   \n",
      "12              12        80080625 -57.637878  60.602089 -147.705597   \n",
      "13              13        80097292 -58.217342  62.957767 -145.089844   \n",
      "14              14        80113959 -58.201908  65.341949 -142.246323   \n",
      "15              15        80130626 -57.424557  67.545319 -139.279419   \n",
      "16              16        80147293 -55.905418  69.381401 -136.497238   \n",
      "17              17        80163960 -53.736359  70.789825 -134.157761   \n",
      "18              18        80180627 -51.206596  71.769577 -132.355438   \n",
      "19              19        80197294 -48.822426  72.380653 -131.074310   \n",
      "20              20        80213961 -46.937466  72.663338 -130.144974   \n",
      "21              21        80230628 -45.795673  72.637543 -129.481827   \n",
      "22              22        80247295 -45.321758  72.363655 -128.842835   \n",
      "23              23        80263962 -45.290226  71.939049 -128.014465   \n",
      "24              24        80280629 -45.381390  71.433357 -126.813393   \n",
      "25              25        80297296 -45.440216  70.889595 -125.226585   \n",
      "26              26        80313963 -45.478630  70.360481 -123.421700   \n",
      "27              27        80330630 -45.466652  69.933006 -121.569115   \n",
      "28              28        80347297 -45.337242  69.579689 -119.833305   \n",
      "29              29        80363964 -45.086761  69.265999 -118.444771   \n",
      "30              30        80380631 -44.756824  68.999855 -117.427712   \n",
      "..             ...             ...        ...        ...         ...   \n",
      "375            375        86130746 -21.590580  35.110504 -128.300217   \n",
      "376            376        86147413 -20.354702  33.613899 -128.345764   \n",
      "377            377        86164080 -19.226915  32.448906 -128.398605   \n",
      "378            378        86180747 -18.066322  31.576767 -128.419327   \n",
      "379            379        86197414 -16.954966  30.971760 -128.446106   \n",
      "380            380        86214081 -16.033487  30.610880 -128.471298   \n",
      "381            381        86230748 -15.280143  30.449953 -128.459168   \n",
      "382            382        86247415 -14.611306  30.454765 -128.451584   \n",
      "383            383        86264082 -14.020562  30.536833 -128.436295   \n",
      "384            384        86280749 -13.597454  30.658216 -128.422546   \n",
      "385            385        86297416 -13.325332  30.807835 -128.419571   \n",
      "386            386        86314083 -13.165532  30.950737 -128.438385   \n",
      "387            387        86330750 -12.988551  31.110323 -128.447250   \n",
      "388            388        86347417 -12.757161  31.267284 -128.434341   \n",
      "389            389        86364084 -12.534341  31.414076 -128.410950   \n",
      "390            390        86380751 -12.380857  31.550587 -128.423263   \n",
      "391            391        86397418 -12.241919  31.716736 -128.464630   \n",
      "392            392        86414085 -12.088309  31.908110 -128.514893   \n",
      "393            393        86430752 -11.954791  32.111809 -128.562744   \n",
      "394            394        86447419 -11.832887  32.308941 -128.604126   \n",
      "395            395        86464086 -11.755668  32.470608 -128.634659   \n",
      "396            396        86480753 -11.696972  32.618149 -128.625580   \n",
      "397            397        86497420 -11.576118  32.736660 -128.572708   \n",
      "398            398        86514087 -11.460186  32.859287 -128.493195   \n",
      "399            399        86530754 -11.566615  32.933228 -128.408844   \n",
      "400            400        86547421 -11.955125  32.864365 -128.397095   \n",
      "401            401        86564088 -12.330739  32.791779 -128.447784   \n",
      "402            402        86580755 -12.582192  32.730774 -128.498215   \n",
      "403            403        86597422 -12.890846  32.547947 -128.550507   \n",
      "404            404        86614089 -13.413615  32.255054 -128.663208   \n",
      "\n",
      "    Unnamed: 11  \n",
      "1                \n",
      "2                \n",
      "3                \n",
      "4                \n",
      "5                \n",
      "6                \n",
      "7                \n",
      "8                \n",
      "9                \n",
      "10               \n",
      "11               \n",
      "12               \n",
      "13               \n",
      "14               \n",
      "15               \n",
      "16               \n",
      "17               \n",
      "18               \n",
      "19               \n",
      "20               \n",
      "21               \n",
      "22               \n",
      "23               \n",
      "24               \n",
      "25               \n",
      "26               \n",
      "27               \n",
      "28               \n",
      "29               \n",
      "30               \n",
      "..          ...  \n",
      "375              \n",
      "376              \n",
      "377              \n",
      "378              \n",
      "379              \n",
      "380              \n",
      "381              \n",
      "382              \n",
      "383              \n",
      "384              \n",
      "385              \n",
      "386              \n",
      "387              \n",
      "388              \n",
      "389              \n",
      "390              \n",
      "391              \n",
      "392              \n",
      "393              \n",
      "394              \n",
      "395              \n",
      "396              \n",
      "397              \n",
      "398              \n",
      "399              \n",
      "400              \n",
      "401              \n",
      "402              \n",
      "403              \n",
      "404              \n",
      "\n",
      "[404 rows x 6 columns]\n"
     ]
    }
   ],
   "source": [
    "print(df)"
   ]
  },
  {
   "cell_type": "code",
   "execution_count": 47,
   "id": "c3949226",
   "metadata": {},
   "outputs": [],
   "source": [
    "df2 = pd.read_csv('Euler_data_left_wrist_label.csv')\n",
    "df2 = df2.drop([0])"
   ]
  },
  {
   "cell_type": "code",
   "execution_count": 48,
   "id": "0c9df5e9",
   "metadata": {},
   "outputs": [
    {
     "name": "stdout",
     "output_type": "stream",
     "text": [
      "     PacketCounter  SampleTimeFine  Label  Unnamed: 3  Unnamed: 4 Unnamed: 5\n",
      "1                1        79897288      1         NaN         NaN           \n",
      "2                2        79913955      1         NaN         NaN           \n",
      "3                3        79930622      1         NaN         NaN           \n",
      "4                4        79947289      1         NaN         NaN           \n",
      "5                5        79963956      1         NaN         NaN           \n",
      "6                6        79980623      1         NaN         NaN           \n",
      "7                7        79997290      1         NaN         NaN           \n",
      "8                8        80013957      1         NaN         NaN           \n",
      "9                9        80030624      1         NaN         NaN           \n",
      "10              10        80047291      1         NaN         NaN           \n",
      "11              11        80063958      1         NaN         NaN           \n",
      "12              12        80080625      1         NaN         NaN           \n",
      "13              13        80097292      1         NaN         NaN           \n",
      "14              14        80113959      1         NaN         NaN           \n",
      "15              15        80130626      1         NaN         NaN           \n",
      "16              16        80147293      1         NaN         NaN           \n",
      "17              17        80163960      1         NaN         NaN           \n",
      "18              18        80180627      1         NaN         NaN           \n",
      "19              19        80197294      1         NaN         NaN           \n",
      "20              20        80213961      1         NaN         NaN           \n",
      "21              21        80230628      1         NaN         NaN           \n",
      "22              22        80247295      1         NaN         NaN           \n",
      "23              23        80263962      1         NaN         NaN           \n",
      "24              24        80280629      1         NaN         NaN           \n",
      "25              25        80297296      1         NaN         NaN           \n",
      "26              26        80313963      1         NaN         NaN           \n",
      "27              27        80330630      1         NaN         NaN           \n",
      "28              28        80347297      1         NaN         NaN           \n",
      "29              29        80363964      1         NaN         NaN           \n",
      "30              30        80380631      1         NaN         NaN           \n",
      "..             ...             ...    ...         ...         ...        ...\n",
      "375            375        86130746      3         NaN         NaN           \n",
      "376            376        86147413      3         NaN         NaN           \n",
      "377            377        86164080      3         NaN         NaN           \n",
      "378            378        86180747      3         NaN         NaN           \n",
      "379            379        86197414      3         NaN         NaN           \n",
      "380            380        86214081      3         NaN         NaN           \n",
      "381            381        86230748      3         NaN         NaN           \n",
      "382            382        86247415      3         NaN         NaN           \n",
      "383            383        86264082      3         NaN         NaN           \n",
      "384            384        86280749      3         NaN         NaN           \n",
      "385            385        86297416      3         NaN         NaN           \n",
      "386            386        86314083      3         NaN         NaN           \n",
      "387            387        86330750      3         NaN         NaN           \n",
      "388            388        86347417      3         NaN         NaN           \n",
      "389            389        86364084      3         NaN         NaN           \n",
      "390            390        86380751      3         NaN         NaN           \n",
      "391            391        86397418      3         NaN         NaN           \n",
      "392            392        86414085      3         NaN         NaN           \n",
      "393            393        86430752      3         NaN         NaN           \n",
      "394            394        86447419      3         NaN         NaN           \n",
      "395            395        86464086      3         NaN         NaN           \n",
      "396            396        86480753      3         NaN         NaN           \n",
      "397            397        86497420      3         NaN         NaN           \n",
      "398            398        86514087      3         NaN         NaN           \n",
      "399            399        86530754      3         NaN         NaN           \n",
      "400            400        86547421      3         NaN         NaN           \n",
      "401            401        86564088      3         NaN         NaN           \n",
      "402            402        86580755      3         NaN         NaN           \n",
      "403            403        86597422      3         NaN         NaN           \n",
      "404            404        86614089      3         NaN         NaN           \n",
      "\n",
      "[404 rows x 6 columns]\n"
     ]
    }
   ],
   "source": [
    "print(df2)"
   ]
  },
  {
   "cell_type": "code",
   "execution_count": 49,
   "id": "de76358e",
   "metadata": {},
   "outputs": [],
   "source": [
    "df_train = df\n",
    "label_train = df2"
   ]
  },
  {
   "cell_type": "code",
   "execution_count": 50,
   "id": "61f2431b",
   "metadata": {},
   "outputs": [
    {
     "name": "stdout",
     "output_type": "stream",
     "text": [
      "Shape of original data: (404, 6)\n",
      "Shape of labels data: (404, 6)\n"
     ]
    }
   ],
   "source": [
    "print(\"Shape of original data:\", df_train.shape)\n",
    "print(\"Shape of labels data:\", label_train.shape)"
   ]
  },
  {
   "cell_type": "code",
   "execution_count": 51,
   "id": "c5e5956a",
   "metadata": {},
   "outputs": [
    {
     "name": "stdout",
     "output_type": "stream",
     "text": [
      "   PacketCounter  SampleTimeFine    Euler_X    Euler_Y     Euler_Z Unnamed: 11\n",
      "1              1        79897288 -44.006100  39.279148 -159.631714            \n",
      "2              2        79913955 -42.771473  40.480717 -158.369705            \n",
      "3              3        79930622 -42.201080  41.910305 -157.384995            \n",
      "4              4        79947289 -42.532143  43.498165 -156.531906            \n",
      "5              5        79963956 -43.704803  45.181152 -155.828735            \n"
     ]
    }
   ],
   "source": [
    "print(df_train.head())"
   ]
  },
  {
   "cell_type": "code",
   "execution_count": 52,
   "id": "c477a48c",
   "metadata": {},
   "outputs": [
    {
     "data": {
      "text/html": [
       "<div>\n",
       "<style scoped>\n",
       "    .dataframe tbody tr th:only-of-type {\n",
       "        vertical-align: middle;\n",
       "    }\n",
       "\n",
       "    .dataframe tbody tr th {\n",
       "        vertical-align: top;\n",
       "    }\n",
       "\n",
       "    .dataframe thead th {\n",
       "        text-align: right;\n",
       "    }\n",
       "</style>\n",
       "<table border=\"1\" class=\"dataframe\">\n",
       "  <thead>\n",
       "    <tr style=\"text-align: right;\">\n",
       "      <th></th>\n",
       "      <th>PacketCounter</th>\n",
       "      <th>SampleTimeFine</th>\n",
       "      <th>Euler_X</th>\n",
       "      <th>Euler_Y</th>\n",
       "      <th>Euler_Z</th>\n",
       "      <th>Unnamed: 11</th>\n",
       "      <th>m</th>\n",
       "    </tr>\n",
       "  </thead>\n",
       "  <tbody>\n",
       "    <tr>\n",
       "      <th>1</th>\n",
       "      <td>1</td>\n",
       "      <td>79897288</td>\n",
       "      <td>-44.006100</td>\n",
       "      <td>39.279148</td>\n",
       "      <td>-159.631714</td>\n",
       "      <td></td>\n",
       "      <td>170.181293</td>\n",
       "    </tr>\n",
       "    <tr>\n",
       "      <th>2</th>\n",
       "      <td>2</td>\n",
       "      <td>79913955</td>\n",
       "      <td>-42.771473</td>\n",
       "      <td>40.480717</td>\n",
       "      <td>-158.369705</td>\n",
       "      <td></td>\n",
       "      <td>168.964644</td>\n",
       "    </tr>\n",
       "    <tr>\n",
       "      <th>3</th>\n",
       "      <td>3</td>\n",
       "      <td>79930622</td>\n",
       "      <td>-42.201080</td>\n",
       "      <td>41.910305</td>\n",
       "      <td>-157.384995</td>\n",
       "      <td></td>\n",
       "      <td>168.248154</td>\n",
       "    </tr>\n",
       "    <tr>\n",
       "      <th>4</th>\n",
       "      <td>4</td>\n",
       "      <td>79947289</td>\n",
       "      <td>-42.532143</td>\n",
       "      <td>43.498165</td>\n",
       "      <td>-156.531906</td>\n",
       "      <td></td>\n",
       "      <td>167.938415</td>\n",
       "    </tr>\n",
       "    <tr>\n",
       "      <th>5</th>\n",
       "      <td>5</td>\n",
       "      <td>79963956</td>\n",
       "      <td>-43.704803</td>\n",
       "      <td>45.181152</td>\n",
       "      <td>-155.828735</td>\n",
       "      <td></td>\n",
       "      <td>168.029882</td>\n",
       "    </tr>\n",
       "  </tbody>\n",
       "</table>\n",
       "</div>"
      ],
      "text/plain": [
       "   PacketCounter  SampleTimeFine    Euler_X    Euler_Y     Euler_Z  \\\n",
       "1              1        79897288 -44.006100  39.279148 -159.631714   \n",
       "2              2        79913955 -42.771473  40.480717 -158.369705   \n",
       "3              3        79930622 -42.201080  41.910305 -157.384995   \n",
       "4              4        79947289 -42.532143  43.498165 -156.531906   \n",
       "5              5        79963956 -43.704803  45.181152 -155.828735   \n",
       "\n",
       "  Unnamed: 11           m  \n",
       "1              170.181293  \n",
       "2              168.964644  \n",
       "3              168.248154  \n",
       "4              167.938415  \n",
       "5              168.029882  "
      ]
     },
     "execution_count": 52,
     "metadata": {},
     "output_type": "execute_result"
    }
   ],
   "source": [
    "def magnitude(activity):\n",
    "    x2 = activity['Euler_X'] * activity['Euler_X']\n",
    "    y2 = activity['Euler_Y'] * activity['Euler_Y']\n",
    "    z2 = activity['Euler_Z'] * activity['Euler_Z']\n",
    "    m2 = x2 + y2 + z2\n",
    "    m = m2.apply(lambda x: math.sqrt(x))\n",
    "    return m\n",
    "\n",
    "df_train['m'] = magnitude(df_train)\n",
    "df_train.head()"
   ]
  },
  {
   "cell_type": "code",
   "execution_count": 57,
   "id": "0169720e",
   "metadata": {},
   "outputs": [
    {
     "data": {
      "image/png": "[encoded data removed]",
      "text/plain": [
       "<Figure size 720x216 with 1 Axes>"
      ]
     },
     "metadata": {
      "needs_background": "light"
     },
     "output_type": "display_data"
    }
   ],
   "source": [
    "plt.figure(figsize=(10,3))\n",
    "plt.plot(df_train['PacketCounter'], df_train['Euler_X'], linewidth=0.5, color='r', label='x axis')\n",
    "plt.plot(df_train['PacketCounter'], df_train['Euler_Y'], linewidth=0.5, color='b', label='y axis')\n",
    "plt.plot(df_train['PacketCounter'], df_train['Euler_Z'], linewidth=0.5, color='g', label='z axis')\n",
    "plt.xlabel('PacketCounter')\n",
    "plt.ylabel('Euler')\n",
    "plt.legend(loc='center left', bbox_to_anchor=(1, 0.5));"
   ]
  },
  {
   "cell_type": "code",
   "execution_count": 58,
   "id": "9eebb3ae",
   "metadata": {},
   "outputs": [
    {
     "data": {
      "image/png": "[encoded data removed]",
      "text/plain": [
       "<Figure size 720x576 with 4 Axes>"
      ]
     },
     "metadata": {
      "needs_background": "light"
     },
     "output_type": "display_data"
    }
   ],
   "source": [
    "fig, ax = plt.subplots(nrows=4, ncols=1, figsize=(10,8))\n",
    "\n",
    "ax[0].set_title('X-axis:')\n",
    "ax[0].plot(df_train['PacketCounter'], df_train['Euler_X'], linewidth=0.5, color='r')\n",
    "\n",
    "ax[1].set_title('Y-axis: ')\n",
    "ax[1].plot(df_train['PacketCounter'], df_train['Euler_Y'], linewidth=0.5, color='b')\n",
    "\n",
    "ax[2].set_title('Z-axis: ')\n",
    "ax[2].plot(df_train['PacketCounter'], df_train['Euler_Z'], linewidth=0.5, color='g')\n",
    "\n",
    "ax[3].set_title('Magnitude, m: Combined X-Y-Z')\n",
    "ax[3].plot(df_train['PacketCounter'], df_train['m'], linewidth=0.5, color='k')\n",
    "\n",
    "fig.subplots_adjust(hspace=.5)"
   ]
  },
  {
   "cell_type": "code",
   "execution_count": 59,
   "id": "86f7f089",
   "metadata": {},
   "outputs": [],
   "source": [
    "# Separating data for each activity\n",
    "train_df = pd.concat([df_train, label_train['Label']], axis=1).dropna()\n",
    "columns = ['PacketCounter', 'Euler_X', 'Euler_Y', 'Euler_Z', 'm', 'Label']\n",
    "\n",
    "wrist_on_elbow = train_df[columns][train_df.Label == 1]\n",
    "waack = train_df[columns][train_df.Label == 2]\n",
    "idle = train_df[columns][train_df.Label == 3]"
   ]
  },
  {
   "cell_type": "code",
   "execution_count": 60,
   "id": "0b92bd03",
   "metadata": {},
   "outputs": [
    {
     "data": {
      "text/html": [
       "<div>\n",
       "<style scoped>\n",
       "    .dataframe tbody tr th:only-of-type {\n",
       "        vertical-align: middle;\n",
       "    }\n",
       "\n",
       "    .dataframe tbody tr th {\n",
       "        vertical-align: top;\n",
       "    }\n",
       "\n",
       "    .dataframe thead th {\n",
       "        text-align: right;\n",
       "    }\n",
       "</style>\n",
       "<table border=\"1\" class=\"dataframe\">\n",
       "  <thead>\n",
       "    <tr style=\"text-align: right;\">\n",
       "      <th></th>\n",
       "      <th>PacketCounter</th>\n",
       "      <th>Euler_X</th>\n",
       "      <th>Euler_Y</th>\n",
       "      <th>Euler_Z</th>\n",
       "      <th>m</th>\n",
       "      <th>Label</th>\n",
       "    </tr>\n",
       "  </thead>\n",
       "  <tbody>\n",
       "    <tr>\n",
       "      <th>1</th>\n",
       "      <td>1</td>\n",
       "      <td>-44.006100</td>\n",
       "      <td>39.279148</td>\n",
       "      <td>-159.631714</td>\n",
       "      <td>170.181293</td>\n",
       "      <td>1</td>\n",
       "    </tr>\n",
       "    <tr>\n",
       "      <th>2</th>\n",
       "      <td>2</td>\n",
       "      <td>-42.771473</td>\n",
       "      <td>40.480717</td>\n",
       "      <td>-158.369705</td>\n",
       "      <td>168.964644</td>\n",
       "      <td>1</td>\n",
       "    </tr>\n",
       "    <tr>\n",
       "      <th>3</th>\n",
       "      <td>3</td>\n",
       "      <td>-42.201080</td>\n",
       "      <td>41.910305</td>\n",
       "      <td>-157.384995</td>\n",
       "      <td>168.248154</td>\n",
       "      <td>1</td>\n",
       "    </tr>\n",
       "    <tr>\n",
       "      <th>4</th>\n",
       "      <td>4</td>\n",
       "      <td>-42.532143</td>\n",
       "      <td>43.498165</td>\n",
       "      <td>-156.531906</td>\n",
       "      <td>167.938415</td>\n",
       "      <td>1</td>\n",
       "    </tr>\n",
       "    <tr>\n",
       "      <th>5</th>\n",
       "      <td>5</td>\n",
       "      <td>-43.704803</td>\n",
       "      <td>45.181152</td>\n",
       "      <td>-155.828735</td>\n",
       "      <td>168.029882</td>\n",
       "      <td>1</td>\n",
       "    </tr>\n",
       "  </tbody>\n",
       "</table>\n",
       "</div>"
      ],
      "text/plain": [
       "   PacketCounter    Euler_X    Euler_Y     Euler_Z           m  Label\n",
       "1              1 -44.006100  39.279148 -159.631714  170.181293      1\n",
       "2              2 -42.771473  40.480717 -158.369705  168.964644      1\n",
       "3              3 -42.201080  41.910305 -157.384995  168.248154      1\n",
       "4              4 -42.532143  43.498165 -156.531906  167.938415      1\n",
       "5              5 -43.704803  45.181152 -155.828735  168.029882      1"
      ]
     },
     "execution_count": 60,
     "metadata": {},
     "output_type": "execute_result"
    }
   ],
   "source": [
    "wrist_on_elbow.head()"
   ]
  },
  {
   "cell_type": "code",
   "execution_count": 61,
   "id": "93299c6b",
   "metadata": {},
   "outputs": [
    {
     "data": {
      "text/html": [
       "<div>\n",
       "<style scoped>\n",
       "    .dataframe tbody tr th:only-of-type {\n",
       "        vertical-align: middle;\n",
       "    }\n",
       "\n",
       "    .dataframe tbody tr th {\n",
       "        vertical-align: top;\n",
       "    }\n",
       "\n",
       "    .dataframe thead th {\n",
       "        text-align: right;\n",
       "    }\n",
       "</style>\n",
       "<table border=\"1\" class=\"dataframe\">\n",
       "  <thead>\n",
       "    <tr style=\"text-align: right;\">\n",
       "      <th></th>\n",
       "      <th>PacketCounter</th>\n",
       "      <th>Euler_X</th>\n",
       "      <th>Euler_Y</th>\n",
       "      <th>Euler_Z</th>\n",
       "      <th>m</th>\n",
       "      <th>Label</th>\n",
       "    </tr>\n",
       "  </thead>\n",
       "  <tbody>\n",
       "    <tr>\n",
       "      <th>251</th>\n",
       "      <td>251</td>\n",
       "      <td>-26.200418</td>\n",
       "      <td>70.368416</td>\n",
       "      <td>-113.722214</td>\n",
       "      <td>136.275155</td>\n",
       "      <td>3</td>\n",
       "    </tr>\n",
       "    <tr>\n",
       "      <th>252</th>\n",
       "      <td>252</td>\n",
       "      <td>-28.125341</td>\n",
       "      <td>70.892448</td>\n",
       "      <td>-112.906685</td>\n",
       "      <td>136.252316</td>\n",
       "      <td>3</td>\n",
       "    </tr>\n",
       "    <tr>\n",
       "      <th>253</th>\n",
       "      <td>253</td>\n",
       "      <td>-29.763264</td>\n",
       "      <td>71.331276</td>\n",
       "      <td>-113.279068</td>\n",
       "      <td>137.135517</td>\n",
       "      <td>3</td>\n",
       "    </tr>\n",
       "    <tr>\n",
       "      <th>254</th>\n",
       "      <td>254</td>\n",
       "      <td>-30.825659</td>\n",
       "      <td>71.767731</td>\n",
       "      <td>-114.622955</td>\n",
       "      <td>138.705625</td>\n",
       "      <td>3</td>\n",
       "    </tr>\n",
       "    <tr>\n",
       "      <th>255</th>\n",
       "      <td>255</td>\n",
       "      <td>-31.325451</td>\n",
       "      <td>72.177826</td>\n",
       "      <td>-116.592262</td>\n",
       "      <td>140.658018</td>\n",
       "      <td>3</td>\n",
       "    </tr>\n",
       "  </tbody>\n",
       "</table>\n",
       "</div>"
      ],
      "text/plain": [
       "     PacketCounter    Euler_X    Euler_Y     Euler_Z           m  Label\n",
       "251            251 -26.200418  70.368416 -113.722214  136.275155      3\n",
       "252            252 -28.125341  70.892448 -112.906685  136.252316      3\n",
       "253            253 -29.763264  71.331276 -113.279068  137.135517      3\n",
       "254            254 -30.825659  71.767731 -114.622955  138.705625      3\n",
       "255            255 -31.325451  72.177826 -116.592262  140.658018      3"
      ]
     },
     "execution_count": 61,
     "metadata": {},
     "output_type": "execute_result"
    }
   ],
   "source": [
    "idle.head()"
   ]
  },
  {
   "cell_type": "code",
   "execution_count": 62,
   "id": "c2aea9cc",
   "metadata": {},
   "outputs": [
    {
     "data": {
      "image/png": "[encoded data removed]",
      "text/plain": [
       "<Figure size 720x576 with 3 Axes>"
      ]
     },
     "metadata": {
      "needs_background": "light"
     },
     "output_type": "display_data"
    }
   ],
   "source": [
    "def plot_axis(ax, x, y, title):\n",
    "    ax.plot(x, y)\n",
    "    ax.set_title(title)\n",
    "    ax.xaxis.set_visible(False)\n",
    "    ax.set_ylim([min(y) - np.std(y), max(y) + np.std(y)])\n",
    "    ax.set_xlim([min(x), max(x)])\n",
    "    ax.grid(True)\n",
    "    \n",
    "def plot_activity(activities, titles):\n",
    "    fig, axs = plt.subplots(nrows=len(activities), figsize=(10, 8))\n",
    "    for i in range(0, len(activities)):\n",
    "        plot_axis(axs[i], activities[i]['PacketCounter'], activities[i]['m'], titles[i])\n",
    "    plt.subplots_adjust(hspace=0.2)\n",
    "    plt.show()\n",
    "\n",
    "plot_activity([wrist_on_elbow, waack, idle],\n",
    "              ['Wrist on Elbow', 'Waack', 'Idle'])"
   ]
  },
  {
   "cell_type": "code",
   "execution_count": 65,
   "id": "9123309d",
   "metadata": {},
   "outputs": [],
   "source": [
    "X_train, X_test, y_train, y_test = train_test_split(train_df, label_train, test_size = 0.2, random_state = 0)"
   ]
  },
  {
   "cell_type": "code",
   "execution_count": 66,
   "id": "749c11ca",
   "metadata": {},
   "outputs": [
    {
     "name": "stdout",
     "output_type": "stream",
     "text": [
      "X_train shape: (323, 8)\n",
      "y_train shape: (323, 6)\n"
     ]
    }
   ],
   "source": [
    "print(\"X_train shape:\", X_train.shape)\n",
    "print(\"y_train shape:\", y_train.shape)"
   ]
  },
  {
   "cell_type": "code",
   "execution_count": 67,
   "id": "3d755731",
   "metadata": {},
   "outputs": [
    {
     "name": "stdout",
     "output_type": "stream",
     "text": [
      "X_test shape: (81, 8)\n",
      "y_test shape: (81, 6)\n"
     ]
    }
   ],
   "source": [
    "print(\"X_test shape:\", X_test.shape)\n",
    "print(\"y_test shape:\", y_test.shape)"
   ]
  },
  {
   "cell_type": "code",
   "execution_count": 68,
   "id": "094418cd",
   "metadata": {},
   "outputs": [],
   "source": [
    "def create_dataset(X, y, time_steps=1, step=1):\n",
    "    Xs, ys = [], []\n",
    "    for i in range(0, len(X) - time_steps, step):\n",
    "        v = X.iloc[i:(i + time_steps)].values\n",
    "        labels = label_train['Label'].iloc[i: i + time_steps]\n",
    "        Xs.append(v)        \n",
    "        ys.append(stats.mode(labels)[0][0])\n",
    "    return np.array(Xs), np.array(ys).reshape(-1, 1)\n",
    "\n",
    "TIME_STEPS = 300 #400 #200 #300\n",
    "STEP = 150  #100 #60 #80 #40 #150\n",
    "\n",
    "X_train, y_train = create_dataset(\n",
    "    df[['Euler_X', 'Euler_Y', 'Euler_Z']], \n",
    "    TIME_STEPS, \n",
    "    STEP\n",
    ")\n",
    "\n",
    "X_test, y_test = create_dataset(\n",
    "    df[['Euler_X', 'Euler_Y', 'Euler_Z']], \n",
    "    TIME_STEPS, \n",
    "    STEP\n",
    ")"
   ]
  },
  {
   "cell_type": "code",
   "execution_count": 69,
   "id": "94754c20",
   "metadata": {},
   "outputs": [
    {
     "name": "stdout",
     "output_type": "stream",
     "text": [
      "(254, 150, 3) (254, 1)\n"
     ]
    }
   ],
   "source": [
    "print(X_train.shape, y_train.shape)"
   ]
  },
  {
   "cell_type": "code",
   "execution_count": 70,
   "id": "e2b23a99",
   "metadata": {},
   "outputs": [],
   "source": [
    "enc = OneHotEncoder(handle_unknown='ignore', sparse=False)\n",
    "\n",
    "enc = enc.fit(y_train)\n",
    "\n",
    "y_train = enc.transform(y_train)\n",
    "y_test = enc.transform(y_test)"
   ]
  },
  {
   "cell_type": "code",
   "execution_count": 71,
   "id": "eaddec9a",
   "metadata": {},
   "outputs": [
    {
     "name": "stdout",
     "output_type": "stream",
     "text": [
      "(254, 150, 3) (254, 3)\n"
     ]
    }
   ],
   "source": [
    "print(X_train.shape, y_train.shape)"
   ]
  },
  {
   "cell_type": "code",
   "execution_count": 72,
   "id": "40f339b4",
   "metadata": {},
   "outputs": [],
   "source": [
    "model = keras.Sequential()\n",
    "model.add(\n",
    "    keras.layers.Bidirectional(\n",
    "      keras.layers.LSTM(\n",
    "          units=128, \n",
    "          input_shape=[X_train.shape[0], X_train.shape[1]]\n",
    "      )\n",
    "    )\n",
    ")\n",
    "model.add(keras.layers.Dropout(rate=0.5))\n",
    "model.add(keras.layers.Dense(units=128, activation='relu'))\n",
    "model.add(keras.layers.Dense(y_train.shape[1], activation='softmax'))\n",
    "model.compile(loss='categorical_crossentropy', optimizer='adam', metrics=['acc'])"
   ]
  },
  {
   "cell_type": "code",
   "execution_count": 73,
   "id": "eec06899",
   "metadata": {},
   "outputs": [
    {
     "name": "stdout",
     "output_type": "stream",
     "text": [
      "Train on 228 samples, validate on 26 samples\n",
      "Epoch 1/20\n",
      "228/228 [==============================] - 3s 14ms/step - loss: 0.9382 - acc: 0.5439 - val_loss: 1.7853 - val_acc: 0.0000e+00\n",
      "Epoch 2/20\n",
      "228/228 [==============================] - 2s 8ms/step - loss: 0.3868 - acc: 0.8816 - val_loss: 1.9357 - val_acc: 0.0000e+00\n",
      "Epoch 3/20\n",
      "228/228 [==============================] - 2s 9ms/step - loss: 0.2503 - acc: 0.9123 - val_loss: 1.8601 - val_acc: 0.0000e+00\n",
      "Epoch 4/20\n",
      "228/228 [==============================] - 2s 9ms/step - loss: 0.1890 - acc: 0.9123 - val_loss: 1.6679 - val_acc: 0.0000e+00\n",
      "Epoch 5/20\n",
      "228/228 [==============================] - 2s 9ms/step - loss: 0.1450 - acc: 0.9430 - val_loss: 1.5174 - val_acc: 0.0000e+00\n",
      "Epoch 6/20\n",
      "228/228 [==============================] - 2s 9ms/step - loss: 0.1497 - acc: 0.9298 - val_loss: 1.5161 - val_acc: 0.0000e+00\n",
      "Epoch 7/20\n",
      "228/228 [==============================] - 2s 9ms/step - loss: 0.1147 - acc: 0.9561 - val_loss: 1.4829 - val_acc: 0.0000e+00\n",
      "Epoch 8/20\n",
      "228/228 [==============================] - 2s 9ms/step - loss: 0.1001 - acc: 0.9693 - val_loss: 1.3573 - val_acc: 0.3077\n",
      "Epoch 9/20\n",
      "228/228 [==============================] - 2s 9ms/step - loss: 0.0752 - acc: 0.9737 - val_loss: 1.3398 - val_acc: 0.3462\n",
      "Epoch 10/20\n",
      "228/228 [==============================] - 2s 10ms/step - loss: 0.0627 - acc: 0.9912 - val_loss: 1.2105 - val_acc: 0.4231\n",
      "Epoch 11/20\n",
      "228/228 [==============================] - 2s 9ms/step - loss: 0.0642 - acc: 0.9693 - val_loss: 1.1202 - val_acc: 0.4615\n",
      "Epoch 12/20\n",
      "228/228 [==============================] - 2s 9ms/step - loss: 0.0599 - acc: 0.9781 - val_loss: 1.0731 - val_acc: 0.4615\n",
      "Epoch 13/20\n",
      "228/228 [==============================] - 2s 9ms/step - loss: 0.0457 - acc: 0.9868 - val_loss: 1.0091 - val_acc: 0.5000\n",
      "Epoch 14/20\n",
      "228/228 [==============================] - 2s 10ms/step - loss: 0.0441 - acc: 0.9956 - val_loss: 0.8672 - val_acc: 0.5000\n",
      "Epoch 15/20\n",
      "228/228 [==============================] - 2s 10ms/step - loss: 0.0441 - acc: 0.9868 - val_loss: 0.6951 - val_acc: 0.5385\n",
      "Epoch 16/20\n",
      "228/228 [==============================] - 2s 10ms/step - loss: 0.0363 - acc: 0.9868 - val_loss: 0.6490 - val_acc: 0.5769\n",
      "Epoch 17/20\n",
      "228/228 [==============================] - 2s 10ms/step - loss: 0.0386 - acc: 0.9825 - val_loss: 0.7998 - val_acc: 0.5769\n",
      "Epoch 18/20\n",
      "228/228 [==============================] - 2s 10ms/step - loss: 0.0256 - acc: 1.0000 - val_loss: 0.7926 - val_acc: 0.5769\n",
      "Epoch 19/20\n",
      "228/228 [==============================] - 2s 10ms/step - loss: 0.0263 - acc: 0.9912 - val_loss: 0.8492 - val_acc: 0.5769\n",
      "Epoch 20/20\n",
      "228/228 [==============================] - 2s 10ms/step - loss: 0.0334 - acc: 0.9868 - val_loss: 0.9712 - val_acc: 0.5385\n"
     ]
    }
   ],
   "source": [
    "history = model.fit(\n",
    "    X_train, y_train,\n",
    "    epochs=20,\n",
    "    batch_size=64, #64 #128 #32\n",
    "    validation_split=0.1,\n",
    "    shuffle=True\n",
    ")"
   ]
  },
  {
   "cell_type": "code",
   "execution_count": 74,
   "id": "07f80432",
   "metadata": {},
   "outputs": [
    {
     "data": {
      "image/png": "[encoded data removed]",
      "text/plain": [
       "<Figure size 432x288 with 1 Axes>"
      ]
     },
     "metadata": {
      "needs_background": "light"
     },
     "output_type": "display_data"
    }
   ],
   "source": [
    "plt.plot(history.history['loss'], label='train')\n",
    "plt.plot(history.history['val_loss'], label='test')\n",
    "plt.legend();"
   ]
  },
  {
   "cell_type": "code",
   "execution_count": 75,
   "id": "b1344491",
   "metadata": {},
   "outputs": [
    {
     "data": {
      "image/png": "[encoded data removed]",
      "text/plain": [
       "<Figure size 432x288 with 1 Axes>"
      ]
     },
     "metadata": {
      "needs_background": "light"
     },
     "output_type": "display_data"
    }
   ],
   "source": [
    "plt.plot(history.history['acc'], label='train')\n",
    "plt.plot(history.history['val_acc'], label='test')\n",
    "plt.legend();"
   ]
  },
  {
   "cell_type": "code",
   "execution_count": 76,
   "id": "1fa2bcac",
   "metadata": {},
   "outputs": [
    {
     "name": "stdout",
     "output_type": "stream",
     "text": [
      "254/254 [==============================] - 0s 1ms/step\n"
     ]
    },
    {
     "data": {
      "text/plain": [
       "[0.11861118285432751, 0.9488189004537627]"
      ]
     },
     "execution_count": 76,
     "metadata": {},
     "output_type": "execute_result"
    }
   ],
   "source": [
    "model.evaluate(X_test, y_test)"
   ]
  },
  {
   "cell_type": "code",
   "execution_count": 77,
   "id": "7cb857d1",
   "metadata": {},
   "outputs": [
    {
     "name": "stdout",
     "output_type": "stream",
     "text": [
      "254/254 [==============================] - 0s 1ms/step\n"
     ]
    },
    {
     "data": {
      "text/plain": [
       "[0.11861118285432751, 0.9488189004537627]"
      ]
     },
     "execution_count": 77,
     "metadata": {},
     "output_type": "execute_result"
    }
   ],
   "source": [
    "model.evaluate(X_train, y_train)"
   ]
  },
  {
   "cell_type": "code",
   "execution_count": 79,
   "id": "59f1e725",
   "metadata": {},
   "outputs": [],
   "source": [
    "y_pred = model.predict(X_test)"
   ]
  },
  {
   "cell_type": "code",
   "execution_count": 80,
   "id": "463d9973",
   "metadata": {},
   "outputs": [],
   "source": [
    "column_names = 'Wrist_on_Elbow', 'Waack', 'Idle'\n",
    "\n",
    "def plot_cm(y_true, y_pred, class_names):\n",
    "  cm = confusion_matrix(y_true, y_pred)\n",
    "  fig, ax = plt.subplots(figsize=(18, 16)) \n",
    "  ax = sns.heatmap(\n",
    "      cm, \n",
    "      annot=True, \n",
    "      fmt=\"d\", \n",
    "      cmap=sns.diverging_palette(220, 20, n=7),\n",
    "      ax=ax\n",
    "  )\n",
    "\n",
    "  plt.ylabel('Actual')\n",
    "  plt.xlabel('Predicted')\n",
    "  ax.set_xticklabels(column_names)\n",
    "  ax.set_yticklabels(column_names)\n",
    "  b, t = plt.ylim() # discover the values for bottom and top\n",
    "  #b += 0.5 # Add 0.5 to the bottom\n",
    "  #t -= 0.5 # Subtract 0.5 from the top\n",
    "  plt.ylim(b, t) # update the ylim(bottom, top) values\n",
    "  plt.show() # ta-da!"
   ]
  },
  {
   "cell_type": "code",
   "execution_count": 83,
   "id": "e1c68614",
   "metadata": {},
   "outputs": [
    {
     "data": {
      "image/png": "[encoded data removed]",
      "text/plain": [
       "<Figure size 1296x1152 with 2 Axes>"
      ]
     },
     "metadata": {
      "needs_background": "light"
     },
     "output_type": "display_data"
    }
   ],
   "source": [
    "plot_cm(\n",
    "  enc.inverse_transform(y_test),\n",
    "  enc.inverse_transform(y_pred),\n",
    "  enc.categories_[0]\n",
    ")"
   ]
  },
  {
   "cell_type": "code",
   "execution_count": null,
   "id": "867392a3",
   "metadata": {},
   "outputs": [],
   "source": []
  }
 ],
 "metadata": {
  "kernelspec": {
   "display_name": "Python 3",
   "language": "python",
   "name": "python3"
  },
  "language_info": {
   "codemirror_mode": {
    "name": "ipython",
    "version": 3
   },
   "file_extension": ".py",
   "mimetype": "text/x-python",
   "name": "python",
   "nbconvert_exporter": "python",
   "pygments_lexer": "ipython3",
   "version": "3.5.5"
  }
 },
 "nbformat": 4,
 "nbformat_minor": 5
}
